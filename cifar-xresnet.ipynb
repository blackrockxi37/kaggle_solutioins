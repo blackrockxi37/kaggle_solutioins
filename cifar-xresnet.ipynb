{
 "cells": [
  {
   "cell_type": "code",
   "execution_count": 1,
   "id": "92d0bbff",
   "metadata": {
    "execution": {
     "iopub.execute_input": "2024-08-30T15:18:53.658721Z",
     "iopub.status.busy": "2024-08-30T15:18:53.658314Z",
     "iopub.status.idle": "2024-08-30T15:19:15.804340Z",
     "shell.execute_reply": "2024-08-30T15:19:15.803329Z"
    },
    "papermill": {
     "duration": 22.15452,
     "end_time": "2024-08-30T15:19:15.806902",
     "exception": false,
     "start_time": "2024-08-30T15:18:53.652382",
     "status": "completed"
    },
    "scrolled": true,
    "tags": []
   },
   "outputs": [
    {
     "name": "stdout",
     "output_type": "stream",
     "text": [
      "Device selected: Tesla P100-PCIE-16GB\n",
      "Requirement already satisfied: timm in /opt/conda/lib/python3.10/site-packages (1.0.8)\r\n",
      "Requirement already satisfied: torch in /opt/conda/lib/python3.10/site-packages (from timm) (2.4.0)\r\n",
      "Requirement already satisfied: torchvision in /opt/conda/lib/python3.10/site-packages (from timm) (0.19.0)\r\n",
      "Requirement already satisfied: pyyaml in /opt/conda/lib/python3.10/site-packages (from timm) (6.0.2)\r\n",
      "Requirement already satisfied: huggingface_hub in /opt/conda/lib/python3.10/site-packages (from timm) (0.24.6)\r\n",
      "Requirement already satisfied: safetensors in /opt/conda/lib/python3.10/site-packages (from timm) (0.4.4)\r\n",
      "Requirement already satisfied: filelock in /opt/conda/lib/python3.10/site-packages (from huggingface_hub->timm) (3.15.1)\r\n",
      "Requirement already satisfied: fsspec>=2023.5.0 in /opt/conda/lib/python3.10/site-packages (from huggingface_hub->timm) (2024.6.1)\r\n",
      "Requirement already satisfied: packaging>=20.9 in /opt/conda/lib/python3.10/site-packages (from huggingface_hub->timm) (21.3)\r\n",
      "Requirement already satisfied: requests in /opt/conda/lib/python3.10/site-packages (from huggingface_hub->timm) (2.32.3)\r\n",
      "Requirement already satisfied: tqdm>=4.42.1 in /opt/conda/lib/python3.10/site-packages (from huggingface_hub->timm) (4.66.4)\r\n",
      "Requirement already satisfied: typing-extensions>=3.7.4.3 in /opt/conda/lib/python3.10/site-packages (from huggingface_hub->timm) (4.12.2)\r\n",
      "Requirement already satisfied: sympy in /opt/conda/lib/python3.10/site-packages (from torch->timm) (1.13.2)\r\n",
      "Requirement already satisfied: networkx in /opt/conda/lib/python3.10/site-packages (from torch->timm) (3.3)\r\n",
      "Requirement already satisfied: jinja2 in /opt/conda/lib/python3.10/site-packages (from torch->timm) (3.1.4)\r\n",
      "Requirement already satisfied: numpy in /opt/conda/lib/python3.10/site-packages (from torchvision->timm) (1.26.4)\r\n",
      "Requirement already satisfied: pillow!=8.3.*,>=5.3.0 in /opt/conda/lib/python3.10/site-packages (from torchvision->timm) (9.5.0)\r\n",
      "Requirement already satisfied: pyparsing!=3.0.5,>=2.0.2 in /opt/conda/lib/python3.10/site-packages (from packaging>=20.9->huggingface_hub->timm) (3.1.2)\r\n",
      "Requirement already satisfied: MarkupSafe>=2.0 in /opt/conda/lib/python3.10/site-packages (from jinja2->torch->timm) (2.1.5)\r\n",
      "Requirement already satisfied: charset-normalizer<4,>=2 in /opt/conda/lib/python3.10/site-packages (from requests->huggingface_hub->timm) (3.3.2)\r\n",
      "Requirement already satisfied: idna<4,>=2.5 in /opt/conda/lib/python3.10/site-packages (from requests->huggingface_hub->timm) (3.7)\r\n",
      "Requirement already satisfied: urllib3<3,>=1.21.1 in /opt/conda/lib/python3.10/site-packages (from requests->huggingface_hub->timm) (1.26.18)\r\n",
      "Requirement already satisfied: certifi>=2017.4.17 in /opt/conda/lib/python3.10/site-packages (from requests->huggingface_hub->timm) (2024.7.4)\r\n",
      "Requirement already satisfied: mpmath<1.4,>=1.1.0 in /opt/conda/lib/python3.10/site-packages (from sympy->torch->timm) (1.3.0)\r\n"
     ]
    }
   ],
   "source": [
    "import os\n",
    "import torch.nn as nn\n",
    "import numpy as np\n",
    "import torch\n",
    "from torchvision.datasets import CIFAR10\n",
    "import matplotlib.pyplot as plt\n",
    "import torchvision.transforms as T\n",
    "from torch.utils.data import DataLoader\n",
    "from torch.optim.lr_scheduler import StepLR\n",
    "from tqdm import tqdm\n",
    "from time import perf_counter\n",
    "from IPython.display import clear_output, display\n",
    "\n",
    "os.environ[\"KMP_DUPLICATE_LIB_OK\"]=\"TRUE\"\n",
    "device = 'cuda:0' if torch.cuda.is_available() else 'cpu'\n",
    "print(f'Device selected: {torch.cuda.get_device_name()}')\n",
    "\n",
    "!pip install timm\n",
    "import timm"
   ]
  },
  {
   "cell_type": "code",
   "execution_count": 2,
   "id": "5dd7f81a",
   "metadata": {
    "execution": {
     "iopub.execute_input": "2024-08-30T15:19:15.818755Z",
     "iopub.status.busy": "2024-08-30T15:19:15.817627Z",
     "iopub.status.idle": "2024-08-30T15:19:15.829229Z",
     "shell.execute_reply": "2024-08-30T15:19:15.828422Z"
    },
    "papermill": {
     "duration": 0.019631,
     "end_time": "2024-08-30T15:19:15.831226",
     "exception": false,
     "start_time": "2024-08-30T15:19:15.811595",
     "status": "completed"
    },
    "tags": []
   },
   "outputs": [],
   "source": [
    "class delay(): # класс для подсчёта времени выполнения\n",
    "    def __init__(self): \n",
    "        self.start = perf_counter()\n",
    "    def start(self):\n",
    "        self.start = perf_counter()\n",
    "        return self\n",
    "    def stop(self):\n",
    "        self.end = perf_counter() - self.start; \n",
    "        mins = int(self.end // 60)\n",
    "        secs = int(self.end % 60)\n",
    "        print(f'Time taken:\\t{mins}:{secs}')\n",
    "\n",
    "def plot_stats(train_loss_accuracy, test_loss_accuracy, title = 'Model train'): # класс для рисования графиков ошибок\n",
    "    fig = plt.figure(figsize = (8, 8))\n",
    "    epoch = len(np.array(train_loss_accuracy)[:, 0])\n",
    "    #plt.suptitle(f'{title}, epoch: {epoch}')\n",
    "    plt.subplot(2, 1, 1) \n",
    "    plt.plot(range(1, epoch + 1), np.array(train_loss_accuracy)[:, 0], label = 'Train loss')\n",
    "    plt.plot(range(1, epoch + 1), np.array(test_loss_accuracy)[:, 0], label = 'Test loss')\n",
    "    plt.ylabel('Loss')\n",
    "    plt.legend(); plt.grid()\n",
    "    plt.subplot(2, 1, 2)\n",
    "    plt.plot(range(1, epoch + 1), np.array(train_loss_accuracy)[:, 1], label = 'Train accuracy')\n",
    "    plt.plot(range(1, epoch + 1), np.array(test_loss_accuracy)[:, 1], label = 'Test accuracy')\n",
    "    plt.xlabel('Epochs'); plt.ylabel('Accuracy')\n",
    "    plt.legend(); plt.grid();\n",
    "    \n",
    "    clear_output(wait=True)\n",
    "    display(plt.gcf())\n",
    "    plt.close()"
   ]
  },
  {
   "cell_type": "code",
   "execution_count": 3,
   "id": "734349ac",
   "metadata": {
    "execution": {
     "iopub.execute_input": "2024-08-30T15:19:15.841441Z",
     "iopub.status.busy": "2024-08-30T15:19:15.841103Z",
     "iopub.status.idle": "2024-08-30T15:19:15.852751Z",
     "shell.execute_reply": "2024-08-30T15:19:15.851836Z"
    },
    "papermill": {
     "duration": 0.019085,
     "end_time": "2024-08-30T15:19:15.854982",
     "exception": false,
     "start_time": "2024-08-30T15:19:15.835897",
     "status": "completed"
    },
    "tags": []
   },
   "outputs": [],
   "source": [
    "def model_train(loader, model, loss_fn, optimizer, epoch):\n",
    "    model.to(device)\n",
    "    model.train() # Переводим модель в режим обучения\n",
    "    tLoss, tTotal, tCorrect = 0, 0, 0 # Инициализируем метрики\n",
    "    \n",
    "    for x, y in tqdm(loader, desc = f'Train {epoch+1}'):\n",
    "        \n",
    "        x, y = x.to(device), y.to(device) # Перемещаем всё на GPU\n",
    "        \n",
    "        optimizer.zero_grad() # Forward pass: Обнуляем градиенты, проходим вперёд и считаем loss\n",
    "        forward = model(x)\n",
    "        loss = loss_fn(forward, y)\n",
    "        \n",
    "        tLoss += loss.item() # Подсчитываем loss и accuracy на трейне\n",
    "        _, y_pred = torch.max(forward, 1)\n",
    "        tTotal += y.size(0)\n",
    "        tCorrect += (y_pred == y).sum().item()\n",
    "        \n",
    "        loss.backward() # Backward pass: вычитаем градиенты и делаем шаг оптимизации\n",
    "        optimizer.step()\n",
    "        \n",
    "    tLoss /= len(loader) # Считаем loss на трейне \n",
    "    tAccuracy = tCorrect / tTotal # считаем accuracy на трейне \n",
    "    return tLoss, tAccuracy\n",
    "    \n",
    "def model_eval(loader, model, loss_fn):\n",
    "    model.to(device)\n",
    "    model.eval() # Переводим модель в режим валидации\n",
    "    tLoss, tTotal, tCorrect = 0, 0, 0\n",
    "    \n",
    "    for x, y in tqdm(loader, desc = 'Eval '):\n",
    "        with torch.no_grad(): # Выключаем подсчёт градиентов в контексте\n",
    "    \n",
    "            x, y = x.to(device), y.to(device) # перемещаем всё на GPU\n",
    "\n",
    "            forward = model(x) # Forward pass: проход вперёд и подсчёт loss'a\n",
    "            loss = loss_fn(forward, y)\n",
    "            \n",
    "            tLoss += loss.item() # Подсчёт метрик 50%\n",
    "            _, y_pred = torch.max(forward, 1)\n",
    "            tTotal += y.size(0)\n",
    "            tCorrect += (y_pred == y).sum().item()\n",
    "            \n",
    "    tLoss /= len(loader) # Подсчёт метрик 100%\n",
    "    tAccuracy = tCorrect / tTotal\n",
    "    return tLoss, tAccuracy"
   ]
  },
  {
   "cell_type": "code",
   "execution_count": 4,
   "id": "8892b58a",
   "metadata": {
    "execution": {
     "iopub.execute_input": "2024-08-30T15:19:15.865189Z",
     "iopub.status.busy": "2024-08-30T15:19:15.864836Z",
     "iopub.status.idle": "2024-08-30T15:19:15.878406Z",
     "shell.execute_reply": "2024-08-30T15:19:15.877623Z"
    },
    "papermill": {
     "duration": 0.020872,
     "end_time": "2024-08-30T15:19:15.880440",
     "exception": false,
     "start_time": "2024-08-30T15:19:15.859568",
     "status": "completed"
    },
    "tags": []
   },
   "outputs": [],
   "source": [
    "class model_three(nn.Module):\n",
    "    def __init__(self):\n",
    "        super().__init__()\n",
    "        self.net = nn.Sequential(\n",
    "            nn.Conv2d(3, 32, 3, padding = 1),\n",
    "            nn.BatchNorm2d(32), \n",
    "            nn.LeakyReLU(0.1),\n",
    "            nn.Conv2d(32, 32, 3, padding = 1),\n",
    "            nn.BatchNorm2d(32), \n",
    "            nn.LeakyReLU(0.1),\n",
    "            nn.MaxPool2d(2),\n",
    "            nn.Dropout2d(p = 0.2),\n",
    "        \n",
    "            nn.Conv2d(32, 64, 3, padding = 1),\n",
    "            nn.BatchNorm2d(64), \n",
    "            nn.LeakyReLU(0.1),\n",
    "            nn.Conv2d(64, 64, 3, padding = 1),\n",
    "            nn.BatchNorm2d(64), \n",
    "            nn.LeakyReLU(0.1),\n",
    "            nn.MaxPool2d(2),\n",
    "            nn.Dropout2d(p = 0.2),\n",
    "        \n",
    "            nn.Conv2d(64, 128, 3, padding = 1),\n",
    "            nn.BatchNorm2d(128), \n",
    "            nn.LeakyReLU(0.1),\n",
    "            nn.Conv2d(128, 128, 3, padding = 1),\n",
    "            nn.BatchNorm2d(128), \n",
    "            nn.LeakyReLU(0.1),\n",
    "            nn.MaxPool2d(2),\n",
    "            nn.Dropout2d(p = 0.2),\n",
    "            \n",
    "            nn.Conv2d(128, 256, 3, padding = 1),\n",
    "            nn.BatchNorm2d(256), \n",
    "            nn.LeakyReLU(0.1),\n",
    "            nn.Conv2d(256, 256, 3, padding = 1),\n",
    "            nn.BatchNorm2d(256), \n",
    "            nn.LeakyReLU(0.1),\n",
    "            nn.MaxPool2d(2),\n",
    "            nn.Dropout2d(p = 0.2),\n",
    "            \n",
    "            nn.Conv2d(256, 512, 3, padding = 1),\n",
    "            nn.BatchNorm2d(512), \n",
    "            nn.LeakyReLU(0.1),\n",
    "            nn.Conv2d(512, 512, 3, padding = 1),\n",
    "            nn.BatchNorm2d(512), \n",
    "            nn.LeakyReLU(0.1),\n",
    "            nn.MaxPool2d(2),\n",
    "            nn.Dropout2d(p = 0.2),\n",
    "            \n",
    "            nn.Flatten(),\n",
    "            nn.Linear(512, 512),\n",
    "            nn.BatchNorm1d(512),\n",
    "            nn.Dropout1d(p = 0.3),\n",
    "            nn.LeakyReLU(0.1),\n",
    "            nn.Linear(512, 10))\n",
    "        \n",
    "    def forward(self, x):\n",
    "        return self.net(x)"
   ]
  },
  {
   "cell_type": "code",
   "execution_count": 5,
   "id": "6d4c89bc",
   "metadata": {
    "execution": {
     "iopub.execute_input": "2024-08-30T15:19:15.890836Z",
     "iopub.status.busy": "2024-08-30T15:19:15.890510Z",
     "iopub.status.idle": "2024-08-30T15:19:15.897320Z",
     "shell.execute_reply": "2024-08-30T15:19:15.896419Z"
    },
    "papermill": {
     "duration": 0.014302,
     "end_time": "2024-08-30T15:19:15.899348",
     "exception": false,
     "start_time": "2024-08-30T15:19:15.885046",
     "status": "completed"
    },
    "tags": []
   },
   "outputs": [],
   "source": [
    "def octava(model, train_loader, test_loader, epochs = 25, title = ''): # Полный цикл обучения\n",
    "    train_loss_accuracy, test_loss_accuracy = [], []\n",
    "    loss_fn = nn.CrossEntropyLoss()\n",
    "    optimizer = torch.optim.Adam(model.parameters(), 1e-3)\n",
    "    scheduler = StepLR(optimizer, step_size = 25)\n",
    "    d = delay()\n",
    "    for e in range(epochs):\n",
    "        train_loss_accuracy += [model_train(train_loader, model, loss_fn, optimizer, e)]\n",
    "        test_loss_accuracy += [model_eval(test_loader, model, loss_fn)]\n",
    "        \n",
    "        plot_stats(train_loss_accuracy, test_loss_accuracy, title = title)\n",
    "        scheduler.step()\n",
    "    d.stop()"
   ]
  },
  {
   "cell_type": "code",
   "execution_count": 6,
   "id": "ac58dc6d",
   "metadata": {
    "execution": {
     "iopub.execute_input": "2024-08-30T15:19:15.909676Z",
     "iopub.status.busy": "2024-08-30T15:19:15.909360Z",
     "iopub.status.idle": "2024-08-30T15:19:24.268268Z",
     "shell.execute_reply": "2024-08-30T15:19:24.267353Z"
    },
    "papermill": {
     "duration": 8.367081,
     "end_time": "2024-08-30T15:19:24.271047",
     "exception": false,
     "start_time": "2024-08-30T15:19:15.903966",
     "status": "completed"
    },
    "tags": []
   },
   "outputs": [
    {
     "name": "stdout",
     "output_type": "stream",
     "text": [
      "Downloading https://www.cs.toronto.edu/~kriz/cifar-10-python.tar.gz to ./datasets/cifar10/cifar-10-python.tar.gz\n"
     ]
    },
    {
     "name": "stderr",
     "output_type": "stream",
     "text": [
      "100%|██████████| 170498071/170498071 [00:02<00:00, 80558467.82it/s]\n"
     ]
    },
    {
     "name": "stdout",
     "output_type": "stream",
     "text": [
      "Extracting ./datasets/cifar10/cifar-10-python.tar.gz to ./datasets/cifar10\n",
      "Files already downloaded and verified\n",
      "Files already downloaded and verified\n"
     ]
    }
   ],
   "source": [
    "dataset_train = CIFAR10('./datasets/cifar10', train=True, transform=T.ToTensor(), download = True)\n",
    "means = (dataset_train.data / 255).mean(axis=(0, 1, 2))\n",
    "stds = (dataset_train.data / 255).std(axis=(0, 1, 2))\n",
    "\n",
    "trans_test = T.Compose([\n",
    "    T.ToTensor(),\n",
    "    T.Normalize(mean=means, std=stds)\n",
    "])\n",
    "trans_train = T.Compose([\n",
    "    T.RandomHorizontalFlip(p = 0.5),\n",
    "    T.RandomResizedCrop(size = 32, scale = (0.8, 1.1)),\n",
    "    T.RandomAdjustSharpness(sharpness_factor=2),\n",
    "    trans_test,\n",
    "])\n",
    "\n",
    "test_loader = DataLoader(CIFAR10('./datasets/cifar10', False, trans_test, download = True), 50, num_workers = 4, pin_memory = True)\n",
    "train_loader = DataLoader(CIFAR10('./datasets/cifar10', True, trans_train, download = True), 50, num_workers = 4, pin_memory = True)"
   ]
  },
  {
   "cell_type": "code",
   "execution_count": 7,
   "id": "10b215c8",
   "metadata": {
    "execution": {
     "iopub.execute_input": "2024-08-30T15:19:24.288526Z",
     "iopub.status.busy": "2024-08-30T15:19:24.287248Z",
     "iopub.status.idle": "2024-08-30T15:19:24.389321Z",
     "shell.execute_reply": "2024-08-30T15:19:24.388236Z"
    },
    "papermill": {
     "duration": 0.113233,
     "end_time": "2024-08-30T15:19:24.392002",
     "exception": false,
     "start_time": "2024-08-30T15:19:24.278769",
     "status": "completed"
    },
    "tags": []
   },
   "outputs": [],
   "source": [
    "model = model_three()\n",
    "#octava(model, train_loader, test_loader, 100, 'Batch norm + Dropout + Scheduler')"
   ]
  },
  {
   "cell_type": "code",
   "execution_count": 8,
   "id": "f20fa827",
   "metadata": {
    "execution": {
     "iopub.execute_input": "2024-08-30T15:19:24.407839Z",
     "iopub.status.busy": "2024-08-30T15:19:24.407451Z",
     "iopub.status.idle": "2024-08-30T15:19:27.693729Z",
     "shell.execute_reply": "2024-08-30T15:19:27.692650Z"
    },
    "papermill": {
     "duration": 3.297169,
     "end_time": "2024-08-30T15:19:27.696438",
     "exception": false,
     "start_time": "2024-08-30T15:19:24.399269",
     "status": "completed"
    },
    "tags": []
   },
   "outputs": [
    {
     "name": "stderr",
     "output_type": "stream",
     "text": [
      "Downloading: \"https://download.pytorch.org/models/convnext_tiny-983f1562.pth\" to /root/.cache/torch/hub/checkpoints/convnext_tiny-983f1562.pth\n",
      "100%|██████████| 109M/109M [00:02<00:00, 54.1MB/s]\n"
     ]
    }
   ],
   "source": [
    "import torch\n",
    "import torch.nn as nn\n",
    "import torch.optim as optim\n",
    "import torchvision\n",
    "import torchvision.transforms as transforms\n",
    "from torchvision.models import convnext_tiny\n",
    "\n",
    "class ConvNeXtCIFAR10(nn.Module):\n",
    "    def __init__(self, num_classes=10):\n",
    "        super(ConvNeXtCIFAR10, self).__init__()\n",
    "        # Загружаем предобученную модель ConvNeXt Tiny и адаптируем её под 10 классов\n",
    "        self.model = convnext_tiny(weights='DEFAULT')\n",
    "        self.model.classifier[2] = nn.Linear(self.model.classifier[2].in_features, num_classes)\n",
    "\n",
    "    def forward(self, x):\n",
    "        return self.model(x)\n",
    "\n",
    "model = ConvNeXtCIFAR10().to(device)\n",
    "#di = octava(model, train_loader, test_loader, 15, 'ConvNeXt')"
   ]
  },
  {
   "cell_type": "code",
   "execution_count": 9,
   "id": "46ddf096",
   "metadata": {
    "execution": {
     "iopub.execute_input": "2024-08-30T15:19:27.715091Z",
     "iopub.status.busy": "2024-08-30T15:19:27.714713Z",
     "iopub.status.idle": "2024-08-30T15:19:27.720950Z",
     "shell.execute_reply": "2024-08-30T15:19:27.719934Z"
    },
    "papermill": {
     "duration": 0.017082,
     "end_time": "2024-08-30T15:19:27.723149",
     "exception": false,
     "start_time": "2024-08-30T15:19:27.706067",
     "status": "completed"
    },
    "tags": []
   },
   "outputs": [],
   "source": [
    "def model_predict(model, test_loader):\n",
    "    model.to(device)\n",
    "    model.eval()\n",
    "    for x, y in tqdm(loader, desc = 'Prediction'):\n",
    "        with torch.no_grad(): \n",
    "            x, y = x.to(device), y.to(device)\n",
    "            forward = model(x)\n",
    "            _, y_pred = torch.max(forward, 1)\n",
    "    return y_pred"
   ]
  },
  {
   "cell_type": "code",
   "execution_count": 10,
   "id": "7eb86ff2",
   "metadata": {
    "execution": {
     "iopub.execute_input": "2024-08-30T15:19:27.740140Z",
     "iopub.status.busy": "2024-08-30T15:19:27.739370Z",
     "iopub.status.idle": "2024-08-30T15:48:43.410693Z",
     "shell.execute_reply": "2024-08-30T15:48:43.409501Z"
    },
    "papermill": {
     "duration": 1755.682301,
     "end_time": "2024-08-30T15:48:43.413130",
     "exception": false,
     "start_time": "2024-08-30T15:19:27.730829",
     "status": "completed"
    },
    "tags": []
   },
   "outputs": [
    {
     "data": {
      "image/png": "[encoded data removed]",
      "text/plain": [
       "<Figure size 800x800 with 2 Axes>"
      ]
     },
     "metadata": {},
     "output_type": "display_data"
    },
    {
     "name": "stdout",
     "output_type": "stream",
     "text": [
      "Time taken:\t29:15\n"
     ]
    }
   ],
   "source": [
    "from torchvision.models.resnet import ResNet, BasicBlock\n",
    "class XResNet(ResNet):\n",
    "    def __init__(self, block, layers, num_classes=10):\n",
    "        super(XResNet, self).__init__(block, layers, num_classes=num_classes)\n",
    "        self.inplanes = 64\n",
    "        # Обновлённый конструктор для правильного количества каналов\n",
    "        self.conv1 = nn.Conv2d(3, 64, kernel_size=3, stride=1, padding=1, bias=False)\n",
    "        self.bn1 = nn.BatchNorm2d(64)\n",
    "        self.relu = nn.ReLU(inplace=True)\n",
    "        self.maxpool = nn.Identity()  # Убираем maxpooling для адаптации под размер входа\n",
    "\n",
    "        # Переопределяем классификатор\n",
    "        self.fc = nn.Linear(512 * block.expansion, num_classes)\n",
    "\n",
    "def xresnet18(num_classes=10):\n",
    "    return XResNet(BasicBlock, [2, 2, 2, 2], num_classes=num_classes)\n",
    "\n",
    "model_xres = xresnet18()\n",
    "octava(model_xres, train_loader, test_loader, 50, 'xresnet18')"
   ]
  }
 ],
 "metadata": {
  "kaggle": {
   "accelerator": "none",
   "dataSources": [],
   "dockerImageVersionId": 30762,
   "isGpuEnabled": false,
   "isInternetEnabled": true,
   "language": "python",
   "sourceType": "notebook"
  },
  "kernelspec": {
   "display_name": "Python 3",
   "language": "python",
   "name": "python3"
  },
  "language_info": {
   "codemirror_mode": {
    "name": "ipython",
    "version": 3
   },
   "file_extension": ".py",
   "mimetype": "text/x-python",
   "name": "python",
   "nbconvert_exporter": "python",
   "pygments_lexer": "ipython3",
   "version": "3.10.14"
  },
  "papermill": {
   "default_parameters": {},
   "duration": 1795.630586,
   "end_time": "2024-08-30T15:48:46.308113",
   "environment_variables": {},
   "exception": null,
   "input_path": "__notebook__.ipynb",
   "output_path": "__notebook__.ipynb",
   "parameters": {},
   "start_time": "2024-08-30T15:18:50.677527",
   "version": "2.6.0"
  }
 },
 "nbformat": 4,
 "nbformat_minor": 5
}
